{
 "cells": [
  {
   "cell_type": "code",
   "execution_count": 50,
   "metadata": {},
   "outputs": [],
   "source": [
    "import pandas as pd\n",
    "from scipy import stats\n",
    "from math import sqrt\n",
    "from statsmodels.api import tsa"
   ]
  },
  {
   "cell_type": "code",
   "execution_count": 13,
   "metadata": {},
   "outputs": [],
   "source": [
    "fpath = \"../../data/d-3stocks9908.txt.gz\"\n",
    "\n",
    "# date, axp, cat, sbux\n",
    "df = pd.read_csv(fpath, delimiter='\\s+', header=0, index_col='date') * 100"
   ]
  },
  {
   "cell_type": "code",
   "execution_count": 26,
   "metadata": {},
   "outputs": [
    {
     "name": "stdout",
     "output_type": "stream",
     "text": [
      "  Stock      Mean       Std      Skew  Ex. Kurt      Min      Max\n",
      "0   AXP  0.014565  2.446218 -0.034647  6.069696 -17.5949  17.9266\n",
      "1   CAT  0.059504  2.169648  0.011685  4.470462 -14.5175  14.7229\n",
      "2  SBUX  0.048054  2.682622 -0.082525  8.774744 -28.2862  14.6354\n"
     ]
    }
   ],
   "source": [
    "# Summary statistics of daily returns from January 1999 to December 2008.\n",
    "simple_stats = pd.DataFrame({\n",
    "            'Stock': [x.upper() for x in df.columns], \n",
    "            'Mean': df.mean().to_list(),\n",
    "            'Std': df.std().to_list(),\n",
    "            'Skew': df.skew().to_list(),\n",
    "            'Ex. Kurt': df.kurtosis().to_list(),\n",
    "            'Min': df.min().to_list(),\n",
    "            'Max': df.max().to_list()\n",
    "        })\n",
    "print(simple_stats)"
   ]
  },
  {
   "cell_type": "code",
   "execution_count": 32,
   "metadata": {},
   "outputs": [
    {
     "name": "stdout",
     "output_type": "stream",
     "text": [
      "axp    -0.709357\n",
      "cat     0.239231\n",
      "sbux   -1.689579\n",
      "dtype: float64\n",
      "[1.52189675 0.81092642 1.90889147]\n"
     ]
    }
   ],
   "source": [
    "# compute test statistics\n",
    "t = df.skew() / sqrt(6/df.shape[0])\n",
    "print(t)\n",
    "# compute p-value\n",
    "pv = 2 * (1 - stats.norm.cdf(t))\n",
    "print(pv)"
   ]
  },
  {
   "cell_type": "code",
   "execution_count": 34,
   "metadata": {},
   "outputs": [],
   "source": [
    "df = pd.read_csv(\"../../data/m-ibm3dx2608.txt.gz\", header=0, delimiter='\\s+', index_col='date')"
   ]
  },
  {
   "cell_type": "code",
   "execution_count": 36,
   "metadata": {},
   "outputs": [],
   "source": [
    "sibm = df.iloc[:, 0] "
   ]
  },
  {
   "cell_type": "code",
   "execution_count": 87,
   "metadata": {},
   "outputs": [],
   "source": [
    "def ljungbox(x, lags=5):\n",
    "    _, _, qstat, pv  = tsa.acf(x, nlags=5, qstat=True, alpha=0.05, fft=False)\n",
    "    print(\"x-squarted: {:.4f}   p-value: {:.4f}\".format(qstat[-1], pv[-1]))"
   ]
  },
  {
   "cell_type": "code",
   "execution_count": 88,
   "metadata": {},
   "outputs": [
    {
     "name": "stdout",
     "output_type": "stream",
     "text": [
      "x-squarted: 3.5236   p-value: 0.6198\n"
     ]
    }
   ],
   "source": [
    "ljungbox(np.log(sibm +1))"
   ]
  }
 ],
 "metadata": {
  "hide_input": false,
  "kernelspec": {
   "display_name": "Python 3",
   "language": "python",
   "name": "python3"
  },
  "language_info": {
   "codemirror_mode": {
    "name": "ipython",
    "version": 3
   },
   "file_extension": ".py",
   "mimetype": "text/x-python",
   "name": "python",
   "nbconvert_exporter": "python",
   "pygments_lexer": "ipython3",
   "version": "3.7.3"
  },
  "toc": {
   "base_numbering": 1,
   "nav_menu": {},
   "number_sections": true,
   "sideBar": true,
   "skip_h1_title": false,
   "title_cell": "Table of Contents",
   "title_sidebar": "Contents",
   "toc_cell": false,
   "toc_position": {},
   "toc_section_display": true,
   "toc_window_display": false
  },
  "varInspector": {
   "cols": {
    "lenName": 16,
    "lenType": 16,
    "lenVar": 40
   },
   "kernels_config": {
    "python": {
     "delete_cmd_postfix": "",
     "delete_cmd_prefix": "del ",
     "library": "var_list.py",
     "varRefreshCmd": "print(var_dic_list())"
    },
    "r": {
     "delete_cmd_postfix": ") ",
     "delete_cmd_prefix": "rm(",
     "library": "var_list.r",
     "varRefreshCmd": "cat(var_dic_list()) "
    }
   },
   "types_to_exclude": [
    "module",
    "function",
    "builtin_function_or_method",
    "instance",
    "_Feature"
   ],
   "window_display": false
  }
 },
 "nbformat": 4,
 "nbformat_minor": 4
}
